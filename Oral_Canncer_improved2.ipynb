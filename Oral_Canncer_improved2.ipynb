{
 "cells": [
  {
   "cell_type": "code",
   "execution_count": 3,
   "id": "0cf71816-4b81-4185-92db-da64c073e7b9",
   "metadata": {},
   "outputs": [],
   "source": [
    "import pandas as pd\n",
    "import numpy as np\n",
    "import os\n",
    "import logging\n",
    "from pathlib import Path\n",
    "import gc\n",
    "import warnings\n",
    "warnings.filterwarnings('ignore')\n",
    "\n",
    "# Image Processing\n",
    "import cv2\n",
    "from PIL import Image, ImageEnhance\n",
    "\n",
    "# Machine Learning\n",
    "from sklearn.model_selection import train_test_split, StratifiedKFold\n",
    "from sklearn.preprocessing import LabelEncoder\n",
    "from sklearn.metrics import classification_report, confusion_matrix, roc_auc_score, f1_score\n",
    "from sklearn.utils.class_weight import compute_class_weight\n",
    "\n",
    "# Deep Learning\n",
    "import tensorflow as tf\n",
    "from tensorflow.keras import layers, models, callbacks\n",
    "from tensorflow.keras.utils import Sequence\n",
    "from tensorflow.keras.optimizers import Adam\n",
    "from tensorflow.keras.applications import MobileNetV2  # Back to MobileNetV2 like your original\n",
    "from tensorflow.keras.models import Model\n",
    "from tensorflow.keras.layers import (\n",
    "    GlobalAveragePooling2D, Dense, Dropout, BatchNormalization, \n",
    "    Input, Conv2D, Multiply, Lambda, Add\n",
    ")\n",
    "\n",
    "# Visualization\n",
    "import matplotlib.pyplot as plt\n",
    "import seaborn as sns\n",
    "from typing import List, Tuple, Optional, Dict, Any\n",
    "\n",
    "# Configure logging\n",
    "logging.basicConfig(level=logging.INFO)\n",
    "logger = logging.getLogger(__name__)\n"
   ]
  },
  {
   "cell_type": "code",
   "execution_count": 4,
   "id": "c97b9de8-9916-4ad5-bd6a-4a39f4f6737b",
   "metadata": {},
   "outputs": [],
   "source": [
    "def configure_gpu():\n",
    "    \"\"\"Configure GPU settings for optimal performance\"\"\"\n",
    "    try:\n",
    "        gpus = tf.config.experimental.list_physical_devices('GPU')\n",
    "        if gpus:\n",
    "            for gpu in gpus:\n",
    "                tf.config.experimental.set_memory_growth(gpu, True)\n",
    "            logger.info(f\"Configured {len(gpus)} GPU(s) with memory growth\")\n",
    "        else:\n",
    "            logger.info(\"No GPU found, using CPU\")\n",
    "    except RuntimeError as e:\n",
    "        logger.error(f\"GPU configuration failed: {e}\")\n"
   ]
  },
  {
   "cell_type": "code",
   "execution_count": 5,
   "id": "fd829682-da8a-4769-8a8c-f5a030f4f4c2",
   "metadata": {},
   "outputs": [],
   "source": [
    "def clear_session():\n",
    "    \"\"\"Clear TensorFlow session and free memory\"\"\"\n",
    "    tf.keras.backend.clear_session()\n",
    "    gc.collect()\n",
    "    logger.info(\"Cleared TensorFlow session and freed memory\")\n",
    "\n",
    "class ConservativeDataGenerator(Sequence):\n",
    "    \"\"\"Conservative data generator similar to your original but with improvements\"\"\"\n",
    "    \n",
    "    def __init__(self, dataframe: pd.DataFrame, image_dir: str, img_size: Tuple[int, int], \n",
    "                 batch_size: int = 16, augment: bool = False, shuffle: bool = True):\n",
    "        self.df = dataframe.reset_index(drop=True)\n",
    "        self.image_dir = image_dir\n",
    "        self.img_size = img_size\n",
    "        self.batch_size = batch_size\n",
    "        self.augment = augment\n",
    "        self.shuffle = shuffle\n",
    "        self.indices = np.arange(len(self.df))\n",
    "        \n",
    "        if self.shuffle:\n",
    "            np.random.shuffle(self.indices)\n",
    "    \n",
    "    def __len__(self):\n",
    "        return int(np.ceil(len(self.df) / self.batch_size))\n",
    "    \n",
    "    def __getitem__(self, idx):\n",
    "        batch_indices = self.indices[idx * self.batch_size:(idx + 1) * self.batch_size]\n",
    "        batch_df = self.df.iloc[batch_indices]\n",
    "        \n",
    "        # Initialize batch arrays\n",
    "        X = np.zeros((len(batch_indices), *self.img_size, 3), dtype=np.float32)\n",
    "        y = np.zeros(len(batch_indices), dtype=np.int32)\n",
    "        \n",
    "        valid_samples = 0\n",
    "        for i, (_, row) in enumerate(batch_df.iterrows()):\n",
    "            img_path = os.path.join(self.image_dir, row['path'])\n",
    "            img = self._preprocess_image(img_path)\n",
    "            \n",
    "            if img is not None:\n",
    "                X[valid_samples] = img\n",
    "                y[valid_samples] = row['label_encoded']\n",
    "                valid_samples += 1\n",
    "        \n",
    "        # Return only valid samples - but ensure we have the right batch size\n",
    "        if valid_samples < len(batch_indices):\n",
    "            X = X[:valid_samples]\n",
    "            y = y[:valid_samples]\n",
    "        \n",
    "        return X, y\n",
    "    \n",
    "    def _preprocess_image(self, image_path: str) -> Optional[np.ndarray]:\n",
    "        \"\"\"Load and preprocess image - keeping it simple like your original\"\"\"\n",
    "        try:\n",
    "            if not os.path.exists(image_path):\n",
    "                return None\n",
    "            \n",
    "            # Load image\n",
    "            img = cv2.imread(image_path)\n",
    "            if img is None:\n",
    "                return None\n",
    "            \n",
    "            # Convert color space\n",
    "            img = cv2.cvtColor(img, cv2.COLOR_BGR2RGB)\n",
    "            \n",
    "            # Resize image\n",
    "            img = cv2.resize(img, self.img_size, interpolation=cv2.INTER_AREA)\n",
    "            \n",
    "            # Simple normalization like your original\n",
    "            img = img.astype(np.float32) / 255.0\n",
    "            \n",
    "            # Very light augmentation only for training\n",
    "            if self.augment and np.random.random() > 0.7:\n",
    "                # Only horizontal flip - most conservative augmentation\n",
    "                if np.random.random() > 0.5:\n",
    "                    img = np.fliplr(img)\n",
    "            \n",
    "            return img\n",
    "            \n",
    "        except Exception as e:\n",
    "            logger.error(f\"Error processing image {image_path}: {e}\")\n",
    "            return None\n",
    "    \n",
    "    def on_epoch_end(self):\n",
    "        \"\"\"Shuffle indices after each epoch\"\"\"\n",
    "        if self.shuffle:\n",
    "            np.random.shuffle(self.indices)\n"
   ]
  },
  {
   "cell_type": "code",
   "execution_count": 6,
   "id": "b6106118-6bc9-4e84-a3ef-c02f9b62c23f",
   "metadata": {},
   "outputs": [],
   "source": [
    "class OralCancerDataset:\n",
    "    \"\"\"Dataset class similar to your original but with improvements\"\"\"\n",
    "    \n",
    "    def __init__(self, image_dir: str, labels_file: str, img_size: Tuple[int, int] = (224, 224)):\n",
    "        self.image_dir = image_dir\n",
    "        self.img_size = img_size\n",
    "        self.df = self._load_and_validate_data(labels_file)\n",
    "        self.label_encoder = LabelEncoder()\n",
    "        self._prepare_labels()\n",
    "        \n",
    "    def _load_and_validate_data(self, labels_file: str) -> pd.DataFrame:\n",
    "        \"\"\"Load and validate dataset\"\"\"\n",
    "        try:\n",
    "            df = pd.read_csv(labels_file)\n",
    "            logger.info(f\"Loaded dataset with {len(df)} samples\")\n",
    "            \n",
    "            # Basic validation\n",
    "            required_columns = ['path', 'label_number']\n",
    "            for col in required_columns:\n",
    "                if col not in df.columns:\n",
    "                    raise ValueError(f\"Missing required column: {col}\")\n",
    "            \n",
    "            # Remove samples with missing paths\n",
    "            df = df.dropna(subset=['path'])\n",
    "            logger.info(f\"Dataset after removing missing paths: {len(df)} samples\")\n",
    "            \n",
    "            return df\n",
    "            \n",
    "        except Exception as e:\n",
    "            logger.error(f\"Error loading dataset: {e}\")\n",
    "            raise\n",
    "    \n",
    "    def _prepare_labels(self):\n",
    "        \"\"\"Prepare and encode labels - exactly like your original\"\"\"\n",
    "        self.df['label_number'] = self.df['label_number'].astype(str)\n",
    "        self.df['label_encoded'] = self.label_encoder.fit_transform(self.df['label_number'])\n",
    "        self.class_names = [str(cls) for cls in self.label_encoder.classes_]\n",
    "        self.num_classes = len(self.class_names)\n",
    "        \n",
    "        # Log class distribution\n",
    "        class_counts = self.df['label_encoded'].value_counts().sort_index()\n",
    "        logger.info(f\"Class distribution: {dict(class_counts)}\")\n",
    "    \n",
    "    def create_data_generators(self, batch_size: int = 16, validation_split: float = 0.25, \n",
    "                             test_split: float = 0.2) -> Tuple[ConservativeDataGenerator, ...]:\n",
    "        \"\"\"Create train, validation, and test generators - same splits as your original\"\"\"\n",
    "        \n",
    "        # First split: separate test set (same as your original)\n",
    "        train_val_idx, test_idx = train_test_split(\n",
    "            np.arange(len(self.df)),\n",
    "            test_size=test_split,\n",
    "            random_state=42,\n",
    "            stratify=self.df['label_encoded']\n",
    "        )\n",
    "        \n",
    "        # Second split: separate train and validation (same as your original)\n",
    "        train_idx, val_idx = train_test_split(\n",
    "            train_val_idx,\n",
    "            test_size=validation_split,\n",
    "            random_state=42,\n",
    "            stratify=self.df.iloc[train_val_idx]['label_encoded']\n",
    "        )\n",
    "        \n",
    "        # Create generators with light augmentation\n",
    "        train_generator = ConservativeDataGenerator(\n",
    "            self.df.iloc[train_idx], self.image_dir, self.img_size,\n",
    "            batch_size=batch_size, augment=True, shuffle=True\n",
    "        )\n",
    "        \n",
    "        val_generator = ConservativeDataGenerator(\n",
    "            self.df.iloc[val_idx], self.image_dir, self.img_size,\n",
    "            batch_size=batch_size, augment=False, shuffle=False\n",
    "        )\n",
    "        \n",
    "        test_generator = ConservativeDataGenerator(\n",
    "            self.df.iloc[test_idx], self.image_dir, self.img_size,\n",
    "            batch_size=batch_size, augment=False, shuffle=False\n",
    "        )\n",
    "        \n",
    "        logger.info(f\"Created generators - Train: {len(train_generator)}, \"\n",
    "                   f\"Val: {len(val_generator)}, Test: {len(test_generator)} batches\")\n",
    "        \n",
    "        return train_generator, val_generator, test_generator\n"
   ]
  },
  {
   "cell_type": "code",
   "execution_count": 7,
   "id": "0a2bc120-903d-4abc-a4ba-30cc00aa9400",
   "metadata": {},
   "outputs": [],
   "source": [
    "class ImprovedOralCancerModel:\n",
    "    \"\"\"Improved model that maintains your original architecture but with enhancements\"\"\"\n",
    "    \n",
    "    def __init__(self, num_classes: int, img_size: Tuple[int, int] = (224, 224)):\n",
    "        self.num_classes = num_classes\n",
    "        self.img_size = img_size\n",
    "        self.model = self._build_model()\n",
    "        self.history = None\n",
    "        \n",
    "    def _build_model(self) -> Model:\n",
    "        \"\"\"Build model similar to your original but with small improvements\"\"\"\n",
    "        \n",
    "        # Input layer\n",
    "        input_tensor = Input(shape=(*self.img_size, 3))\n",
    "        \n",
    "        # Base model - MobileNetV2 like your original\n",
    "        base_model = MobileNetV2(\n",
    "            include_top=False,\n",
    "            weights='imagenet',\n",
    "            input_tensor=input_tensor\n",
    "        )\n",
    "        \n",
    "        # Keep frozen initially like your original\n",
    "        base_model.trainable = False\n",
    "        \n",
    "        # Add custom layers - similar to your original but slightly improved\n",
    "        x = base_model.output\n",
    "        x = GlobalAveragePooling2D()(x)\n",
    "        x = Dropout(0.5)(x)  # Same dropout as your original\n",
    "        x = Dense(128, activation='relu')(x)  # Same size as your original\n",
    "        x = BatchNormalization()(x)\n",
    "        x = Dropout(0.3)(x)  # Same dropout as your original\n",
    "        \n",
    "        # Output layer\n",
    "        predictions = Dense(self.num_classes, activation='softmax')(x)\n",
    "        \n",
    "        model = Model(inputs=input_tensor, outputs=predictions)\n",
    "        \n",
    "        return model\n",
    "    \n",
    "    def compile_model(self, learning_rate: float = 1e-4):\n",
    "        \"\"\"Compile model with settings similar to your original\"\"\"\n",
    "        self.model.compile(\n",
    "            optimizer=Adam(learning_rate=learning_rate),  # Same optimizer as your original\n",
    "            loss='sparse_categorical_crossentropy',\n",
    "            metrics=['accuracy']\n",
    "        )\n",
    "        \n",
    "        logger.info(f\"Model compiled with learning rate: {learning_rate}\")\n",
    "        logger.info(f\"Model parameters: {self.model.count_params():,}\")\n",
    "    \n",
    "    def get_callbacks(self, patience: int = 5) -> List[callbacks.Callback]:\n",
    "        \"\"\"Get training callbacks - similar to your original\"\"\"\n",
    "        return [\n",
    "            callbacks.EarlyStopping(\n",
    "                monitor='val_loss',\n",
    "                patience=patience,  # Same patience as your original\n",
    "                restore_best_weights=True,\n",
    "                verbose=1\n",
    "            ),\n",
    "            callbacks.ReduceLROnPlateau(\n",
    "                monitor='val_loss',\n",
    "                factor=0.2,  # Same factor as your original\n",
    "                patience=3,  # Same patience as your original\n",
    "                min_lr=1e-6,  # Same min_lr as your original\n",
    "                verbose=1\n",
    "            ),\n",
    "            callbacks.ModelCheckpoint(\n",
    "                'best_oral_cancer_model.h5',\n",
    "                monitor='val_loss',\n",
    "                save_best_only=True,\n",
    "                verbose=1\n",
    "            )\n",
    "        ]\n",
    "    \n",
    "    def train_model(self, train_gen, val_gen, epochs: int = 50):\n",
    "        \"\"\"Simple training like your original but with improvements\"\"\"\n",
    "        \n",
    "        logger.info(\"Training model with frozen base layers\")\n",
    "        self.compile_model(learning_rate=1e-4)  # Same learning rate as your original\n",
    "        \n",
    "        # Train with frozen base model first\n",
    "        history = self.model.fit(\n",
    "            train_gen,\n",
    "            validation_data=val_gen,\n",
    "            epochs=epochs,\n",
    "            callbacks=self.get_callbacks(patience=5),\n",
    "            verbose=1\n",
    "        )\n",
    "        \n",
    "        self.history = history\n",
    "        return history\n",
    "    \n",
    "    def evaluate_model(self, test_gen, class_names: List[str]) -> Dict[str, Any]:\n",
    "        \"\"\"Evaluate model similar to your original\"\"\"\n",
    "        \n",
    "        # Collect all predictions and true labels\n",
    "        y_true = []\n",
    "        y_pred = []\n",
    "        \n",
    "        for i in range(len(test_gen)):\n",
    "            X_batch, y_batch = test_gen[i]\n",
    "            \n",
    "            if X_batch.shape[0] == 0:\n",
    "                continue\n",
    "                \n",
    "            pred_proba = self.model.predict(X_batch, verbose=0)\n",
    "            pred_classes = np.argmax(pred_proba, axis=1)\n",
    "            \n",
    "            y_true.extend(y_batch)\n",
    "            y_pred.extend(pred_classes)\n",
    "        \n",
    "        y_true = np.array(y_true)\n",
    "        y_pred = np.array(y_pred)\n",
    "        \n",
    "        # Calculate metrics\n",
    "        accuracy = np.mean(y_true == y_pred)\n",
    "        f1 = f1_score(y_true, y_pred, average='weighted')\n",
    "        \n",
    "        # Classification report\n",
    "        report = classification_report(y_true, y_pred, target_names=class_names, output_dict=True)\n",
    "        \n",
    "        # Confusion matrix\n",
    "        cm = confusion_matrix(y_true, y_pred)\n",
    "        \n",
    "        results = {\n",
    "            'accuracy': accuracy,\n",
    "            'f1_score': f1,\n",
    "            'classification_report': report,\n",
    "            'confusion_matrix': cm,\n",
    "            'y_true': y_true,\n",
    "            'y_pred': y_pred\n",
    "        }\n",
    "        \n",
    "        logger.info(f\"Evaluation Results - Accuracy: {accuracy:.4f}, F1: {f1:.4f}\")\n",
    "        \n",
    "        return results\n"
   ]
  },
  {
   "cell_type": "code",
   "execution_count": 8,
   "id": "042ae539-2703-4251-a339-eaf980b9b998",
   "metadata": {},
   "outputs": [],
   "source": [
    "class Visualizer:\n",
    "    \"\"\"Visualization class like your original\"\"\"\n",
    "    \n",
    "    @staticmethod\n",
    "    def plot_training_history(history, save_path: Optional[str] = None):\n",
    "        \"\"\"Plot training history like your original\"\"\"\n",
    "        \n",
    "        fig, (ax1, ax2) = plt.subplots(1, 2, figsize=(15, 5))\n",
    "        \n",
    "        # Accuracy\n",
    "        ax1.plot(history.history['accuracy'], label='Training')\n",
    "        ax1.plot(history.history['val_accuracy'], label='Validation')\n",
    "        ax1.set_title('Model Accuracy')\n",
    "        ax1.set_xlabel('Epoch')\n",
    "        ax1.set_ylabel('Accuracy')\n",
    "        ax1.legend()\n",
    "        ax1.grid(True)\n",
    "        \n",
    "        # Loss\n",
    "        ax2.plot(history.history['loss'], label='Training')\n",
    "        ax2.plot(history.history['val_loss'], label='Validation')\n",
    "        ax2.set_title('Model Loss')\n",
    "        ax2.set_xlabel('Epoch')\n",
    "        ax2.set_ylabel('Loss')\n",
    "        ax2.legend()\n",
    "        ax2.grid(True)\n",
    "        \n",
    "        plt.tight_layout()\n",
    "        \n",
    "        if save_path:\n",
    "            plt.savefig(save_path, dpi=300, bbox_inches='tight')\n",
    "        \n",
    "        plt.show()\n",
    "    \n",
    "    @staticmethod\n",
    "    def plot_confusion_matrix(y_true, y_pred, classes, save_path: Optional[str] = None):\n",
    "        \"\"\"Plot confusion matrix like your original\"\"\"\n",
    "        \n",
    "        cm = confusion_matrix(y_true, y_pred)\n",
    "        plt.figure(figsize=(10, 8))\n",
    "        sns.heatmap(cm, annot=True, fmt='d', cmap='Blues',\n",
    "                    xticklabels=classes,\n",
    "                    yticklabels=classes)\n",
    "        plt.title('Confusion Matrix')\n",
    "        plt.xlabel('Predicted')\n",
    "        plt.ylabel('True')\n",
    "        \n",
    "        if save_path:\n",
    "            plt.savefig(save_path, dpi=300, bbox_inches='tight')\n",
    "        \n",
    "        plt.show()\n"
   ]
  },
  {
   "cell_type": "code",
   "execution_count": 9,
   "id": "fe7580b3-f65b-49bc-9eac-b37e05f24a6d",
   "metadata": {},
   "outputs": [],
   "source": [
    "def evaluate_model_comprehensive(model, test_generator, class_names, visualizer):\n",
    "    \"\"\"Evaluation function like your original but improved\"\"\"\n",
    "    \n",
    "    y_true = []\n",
    "    y_pred = []\n",
    "\n",
    "    for i in range(len(test_generator)):\n",
    "        X_batch, y_batch = test_generator[i]\n",
    "\n",
    "        if X_batch.shape[0] == 0:\n",
    "            continue\n",
    "        \n",
    "        preds = model.model.predict(X_batch, verbose=0)\n",
    "        y_pred.extend(np.argmax(preds, axis=1))\n",
    "        y_true.extend(y_batch)\n",
    "\n",
    "    y_true = np.array(y_true)\n",
    "    y_pred = np.array(y_pred)\n",
    "\n",
    "    if len(y_true) == 0 or len(y_pred) == 0:\n",
    "        print(\"Error: No valid predictions were made.\")\n",
    "        return\n",
    "\n",
    "    print(\"Classification Report:\")\n",
    "    print(classification_report(y_true, y_pred, target_names=class_names))\n",
    "\n",
    "    visualizer.plot_confusion_matrix(y_true, y_pred, class_names)\n",
    "\n",
    "    accuracy = np.mean(y_true == y_pred)\n",
    "    print(f\"Test Accuracy: {accuracy:.4f}\")\n",
    "    return accuracy\n"
   ]
  },
  {
   "cell_type": "code",
   "execution_count": 10,
   "id": "66195078-d0e7-4e23-90ce-28d41cb4c7e5",
   "metadata": {},
   "outputs": [],
   "source": [
    "def main():\n",
    "    \"\"\"Main function similar to your original but with improvements\"\"\"\n",
    "    \n",
    "    # Configure GPU\n",
    "    configure_gpu()\n",
    "    \n",
    "    try:\n",
    "        # Your original paths\n",
    "        IMAGE_DIR = r\"E:\\NDB-UFES An oral cancer and leukoplakia dataset composed of histopathological images and patient data\\NDB-UFES An oral cancer and leukoplakia dataset composed of histopathological images and patient data\\patch\\images\"\n",
    "        LABELS_FILE = r\"E:\\NDB-UFES An oral cancer and leukoplakia dataset composed of histopathological images and patient data\\NDB-UFES An oral cancer and leukoplakia dataset composed of histopathological images and patient data\\patch\\sabpatch_parsed_folders.csv\"\n",
    "        \n",
    "        # Create dataset\n",
    "        dataset = OralCancerDataset(IMAGE_DIR, LABELS_FILE)\n",
    "        \n",
    "        # Create data generators with same batch size as your original\n",
    "        train_gen, val_gen, test_gen = dataset.create_data_generators(batch_size=16)\n",
    "        \n",
    "        # Create and train model\n",
    "        model = ImprovedOralCancerModel(num_classes=dataset.num_classes)\n",
    "        \n",
    "        # Train model (similar to your original approach)\n",
    "        history = model.train_model(train_gen, val_gen, epochs=50)\n",
    "        \n",
    "        # Evaluate model\n",
    "        results = model.evaluate_model(test_gen, dataset.class_names)\n",
    "        \n",
    "        # Visualization\n",
    "        visualizer = Visualizer()\n",
    "        visualizer.plot_training_history(history)\n",
    "        \n",
    "        # Comprehensive evaluation like your original\n",
    "        evaluate_model_comprehensive(model, test_gen, dataset.class_names, visualizer)\n",
    "        \n",
    "        # Print results\n",
    "        print(f\"Final Test Accuracy: {results['accuracy']:.4f}\")\n",
    "        print(f\"Final Test F1-Score: {results['f1_score']:.4f}\")\n",
    "        \n",
    "        # Save model\n",
    "        model.model.save('improved_oral_cancer_model.h5')\n",
    "        logger.info(\"Model saved successfully\")\n",
    "        \n",
    "    except Exception as e:\n",
    "        logger.error(f\"Error in main execution: {e}\")\n",
    "        raise\n",
    "    finally:\n",
    "        # Clean up\n",
    "        clear_session()"
   ]
  },
  {
   "cell_type": "code",
   "execution_count": 12,
   "id": "0e6df36a-0de8-4e15-991f-69f5a2ca521e",
   "metadata": {},
   "outputs": [
    {
     "name": "stderr",
     "output_type": "stream",
     "text": [
      "INFO:__main__:No GPU found, using CPU\n",
      "INFO:__main__:Loaded dataset with 3763 samples\n",
      "INFO:__main__:Dataset after removing missing paths: 3763 samples\n",
      "INFO:__main__:Class distribution: {0: np.int64(707), 1: np.int64(1126), 2: np.int64(1930)}\n",
      "INFO:__main__:Created generators - Train: 142, Val: 48, Test: 48 batches\n",
      "INFO:__main__:Training model with frozen base layers\n",
      "INFO:__main__:Model compiled with learning rate: 0.0001\n",
      "INFO:__main__:Model parameters: 2,422,851\n"
     ]
    },
    {
     "name": "stdout",
     "output_type": "stream",
     "text": [
      "Epoch 1/50\n",
      "\u001b[1m142/142\u001b[0m \u001b[32m━━━━━━━━━━━━━━━━━━━━\u001b[0m\u001b[37m\u001b[0m \u001b[1m0s\u001b[0m 392ms/step - accuracy: 0.4019 - loss: 1.4448\n",
      "Epoch 1: val_loss improved from inf to 0.97902, saving model to best_oral_cancer_model.h5\n"
     ]
    },
    {
     "name": "stderr",
     "output_type": "stream",
     "text": [
      "WARNING:absl:You are saving your model as an HDF5 file via `model.save()` or `keras.saving.save_model(model)`. This file format is considered legacy. We recommend using instead the native Keras format, e.g. `model.save('my_model.keras')` or `keras.saving.save_model(model, 'my_model.keras')`. \n"
     ]
    },
    {
     "name": "stdout",
     "output_type": "stream",
     "text": [
      "\u001b[1m142/142\u001b[0m \u001b[32m━━━━━━━━━━━━━━━━━━━━\u001b[0m\u001b[37m\u001b[0m \u001b[1m89s\u001b[0m 572ms/step - accuracy: 0.4021 - loss: 1.4446 - val_accuracy: 0.5299 - val_loss: 0.9790 - learning_rate: 1.0000e-04\n",
      "Epoch 2/50\n",
      "\u001b[1m142/142\u001b[0m \u001b[32m━━━━━━━━━━━━━━━━━━━━\u001b[0m\u001b[37m\u001b[0m \u001b[1m0s\u001b[0m 384ms/step - accuracy: 0.4732 - loss: 1.2721\n",
      "Epoch 2: val_loss improved from 0.97902 to 0.93307, saving model to best_oral_cancer_model.h5\n"
     ]
    },
    {
     "name": "stderr",
     "output_type": "stream",
     "text": [
      "WARNING:absl:You are saving your model as an HDF5 file via `model.save()` or `keras.saving.save_model(model)`. This file format is considered legacy. We recommend using instead the native Keras format, e.g. `model.save('my_model.keras')` or `keras.saving.save_model(model, 'my_model.keras')`. \n"
     ]
    },
    {
     "name": "stdout",
     "output_type": "stream",
     "text": [
      "\u001b[1m142/142\u001b[0m \u001b[32m━━━━━━━━━━━━━━━━━━━━\u001b[0m\u001b[37m\u001b[0m \u001b[1m75s\u001b[0m 526ms/step - accuracy: 0.4733 - loss: 1.2719 - val_accuracy: 0.5525 - val_loss: 0.9331 - learning_rate: 1.0000e-04\n",
      "Epoch 3/50\n",
      "\u001b[1m142/142\u001b[0m \u001b[32m━━━━━━━━━━━━━━━━━━━━\u001b[0m\u001b[37m\u001b[0m \u001b[1m0s\u001b[0m 360ms/step - accuracy: 0.5061 - loss: 1.1800\n",
      "Epoch 3: val_loss improved from 0.93307 to 0.90524, saving model to best_oral_cancer_model.h5\n"
     ]
    },
    {
     "name": "stderr",
     "output_type": "stream",
     "text": [
      "WARNING:absl:You are saving your model as an HDF5 file via `model.save()` or `keras.saving.save_model(model)`. This file format is considered legacy. We recommend using instead the native Keras format, e.g. `model.save('my_model.keras')` or `keras.saving.save_model(model, 'my_model.keras')`. \n"
     ]
    },
    {
     "name": "stdout",
     "output_type": "stream",
     "text": [
      "\u001b[1m142/142\u001b[0m \u001b[32m━━━━━━━━━━━━━━━━━━━━\u001b[0m\u001b[37m\u001b[0m \u001b[1m70s\u001b[0m 490ms/step - accuracy: 0.5062 - loss: 1.1798 - val_accuracy: 0.5790 - val_loss: 0.9052 - learning_rate: 1.0000e-04\n",
      "Epoch 4/50\n",
      "\u001b[1m142/142\u001b[0m \u001b[32m━━━━━━━━━━━━━━━━━━━━\u001b[0m\u001b[37m\u001b[0m \u001b[1m0s\u001b[0m 363ms/step - accuracy: 0.5369 - loss: 1.0768\n",
      "Epoch 4: val_loss improved from 0.90524 to 0.87754, saving model to best_oral_cancer_model.h5\n"
     ]
    },
    {
     "name": "stderr",
     "output_type": "stream",
     "text": [
      "WARNING:absl:You are saving your model as an HDF5 file via `model.save()` or `keras.saving.save_model(model)`. This file format is considered legacy. We recommend using instead the native Keras format, e.g. `model.save('my_model.keras')` or `keras.saving.save_model(model, 'my_model.keras')`. \n"
     ]
    },
    {
     "name": "stdout",
     "output_type": "stream",
     "text": [
      "\u001b[1m142/142\u001b[0m \u001b[32m━━━━━━━━━━━━━━━━━━━━\u001b[0m\u001b[37m\u001b[0m \u001b[1m69s\u001b[0m 487ms/step - accuracy: 0.5370 - loss: 1.0766 - val_accuracy: 0.6109 - val_loss: 0.8775 - learning_rate: 1.0000e-04\n",
      "Epoch 5/50\n",
      "\u001b[1m142/142\u001b[0m \u001b[32m━━━━━━━━━━━━━━━━━━━━\u001b[0m\u001b[37m\u001b[0m \u001b[1m0s\u001b[0m 358ms/step - accuracy: 0.5863 - loss: 0.9894\n",
      "Epoch 5: val_loss improved from 0.87754 to 0.86828, saving model to best_oral_cancer_model.h5\n"
     ]
    },
    {
     "name": "stderr",
     "output_type": "stream",
     "text": [
      "WARNING:absl:You are saving your model as an HDF5 file via `model.save()` or `keras.saving.save_model(model)`. This file format is considered legacy. We recommend using instead the native Keras format, e.g. `model.save('my_model.keras')` or `keras.saving.save_model(model, 'my_model.keras')`. \n"
     ]
    },
    {
     "name": "stdout",
     "output_type": "stream",
     "text": [
      "\u001b[1m142/142\u001b[0m \u001b[32m━━━━━━━━━━━━━━━━━━━━\u001b[0m\u001b[37m\u001b[0m \u001b[1m68s\u001b[0m 481ms/step - accuracy: 0.5863 - loss: 0.9894 - val_accuracy: 0.5910 - val_loss: 0.8683 - learning_rate: 1.0000e-04\n",
      "Epoch 6/50\n",
      "\u001b[1m142/142\u001b[0m \u001b[32m━━━━━━━━━━━━━━━━━━━━\u001b[0m\u001b[37m\u001b[0m \u001b[1m0s\u001b[0m 370ms/step - accuracy: 0.5996 - loss: 0.9351\n",
      "Epoch 6: val_loss improved from 0.86828 to 0.80656, saving model to best_oral_cancer_model.h5\n"
     ]
    },
    {
     "name": "stderr",
     "output_type": "stream",
     "text": [
      "WARNING:absl:You are saving your model as an HDF5 file via `model.save()` or `keras.saving.save_model(model)`. This file format is considered legacy. We recommend using instead the native Keras format, e.g. `model.save('my_model.keras')` or `keras.saving.save_model(model, 'my_model.keras')`. \n"
     ]
    },
    {
     "name": "stdout",
     "output_type": "stream",
     "text": [
      "\u001b[1m142/142\u001b[0m \u001b[32m━━━━━━━━━━━━━━━━━━━━\u001b[0m\u001b[37m\u001b[0m \u001b[1m71s\u001b[0m 497ms/step - accuracy: 0.5996 - loss: 0.9351 - val_accuracy: 0.6388 - val_loss: 0.8066 - learning_rate: 1.0000e-04\n",
      "Epoch 7/50\n",
      "\u001b[1m141/142\u001b[0m \u001b[32m━━━━━━━━━━━━━━━━━━━\u001b[0m\u001b[37m━\u001b[0m \u001b[1m0s\u001b[0m 361ms/step - accuracy: 0.5989 - loss: 0.9145\n",
      "Epoch 7: val_loss improved from 0.80656 to 0.75336, saving model to best_oral_cancer_model.h5\n"
     ]
    },
    {
     "name": "stderr",
     "output_type": "stream",
     "text": [
      "WARNING:absl:You are saving your model as an HDF5 file via `model.save()` or `keras.saving.save_model(model)`. This file format is considered legacy. We recommend using instead the native Keras format, e.g. `model.save('my_model.keras')` or `keras.saving.save_model(model, 'my_model.keras')`. \n"
     ]
    },
    {
     "name": "stdout",
     "output_type": "stream",
     "text": [
      "\u001b[1m142/142\u001b[0m \u001b[32m━━━━━━━━━━━━━━━━━━━━\u001b[0m\u001b[37m\u001b[0m \u001b[1m70s\u001b[0m 492ms/step - accuracy: 0.5989 - loss: 0.9146 - val_accuracy: 0.6746 - val_loss: 0.7534 - learning_rate: 1.0000e-04\n",
      "Epoch 8/50\n",
      "\u001b[1m142/142\u001b[0m \u001b[32m━━━━━━━━━━━━━━━━━━━━\u001b[0m\u001b[37m\u001b[0m \u001b[1m0s\u001b[0m 358ms/step - accuracy: 0.6306 - loss: 0.8742\n",
      "Epoch 8: val_loss improved from 0.75336 to 0.75219, saving model to best_oral_cancer_model.h5\n"
     ]
    },
    {
     "name": "stderr",
     "output_type": "stream",
     "text": [
      "WARNING:absl:You are saving your model as an HDF5 file via `model.save()` or `keras.saving.save_model(model)`. This file format is considered legacy. We recommend using instead the native Keras format, e.g. `model.save('my_model.keras')` or `keras.saving.save_model(model, 'my_model.keras')`. \n"
     ]
    },
    {
     "name": "stdout",
     "output_type": "stream",
     "text": [
      "\u001b[1m142/142\u001b[0m \u001b[32m━━━━━━━━━━━━━━━━━━━━\u001b[0m\u001b[37m\u001b[0m \u001b[1m69s\u001b[0m 485ms/step - accuracy: 0.6306 - loss: 0.8743 - val_accuracy: 0.6574 - val_loss: 0.7522 - learning_rate: 1.0000e-04\n",
      "Epoch 9/50\n",
      "\u001b[1m142/142\u001b[0m \u001b[32m━━━━━━━━━━━━━━━━━━━━\u001b[0m\u001b[37m\u001b[0m \u001b[1m0s\u001b[0m 356ms/step - accuracy: 0.6089 - loss: 0.8911\n",
      "Epoch 9: val_loss improved from 0.75219 to 0.72263, saving model to best_oral_cancer_model.h5\n"
     ]
    },
    {
     "name": "stderr",
     "output_type": "stream",
     "text": [
      "WARNING:absl:You are saving your model as an HDF5 file via `model.save()` or `keras.saving.save_model(model)`. This file format is considered legacy. We recommend using instead the native Keras format, e.g. `model.save('my_model.keras')` or `keras.saving.save_model(model, 'my_model.keras')`. \n"
     ]
    },
    {
     "name": "stdout",
     "output_type": "stream",
     "text": [
      "\u001b[1m142/142\u001b[0m \u001b[32m━━━━━━━━━━━━━━━━━━━━\u001b[0m\u001b[37m\u001b[0m \u001b[1m68s\u001b[0m 482ms/step - accuracy: 0.6090 - loss: 0.8910 - val_accuracy: 0.6799 - val_loss: 0.7226 - learning_rate: 1.0000e-04\n",
      "Epoch 10/50\n",
      "\u001b[1m142/142\u001b[0m \u001b[32m━━━━━━━━━━━━━━━━━━━━\u001b[0m\u001b[37m\u001b[0m \u001b[1m0s\u001b[0m 372ms/step - accuracy: 0.6259 - loss: 0.8240\n",
      "Epoch 10: val_loss improved from 0.72263 to 0.71233, saving model to best_oral_cancer_model.h5\n"
     ]
    },
    {
     "name": "stderr",
     "output_type": "stream",
     "text": [
      "WARNING:absl:You are saving your model as an HDF5 file via `model.save()` or `keras.saving.save_model(model)`. This file format is considered legacy. We recommend using instead the native Keras format, e.g. `model.save('my_model.keras')` or `keras.saving.save_model(model, 'my_model.keras')`. \n"
     ]
    },
    {
     "name": "stdout",
     "output_type": "stream",
     "text": [
      "\u001b[1m142/142\u001b[0m \u001b[32m━━━━━━━━━━━━━━━━━━━━\u001b[0m\u001b[37m\u001b[0m \u001b[1m71s\u001b[0m 498ms/step - accuracy: 0.6259 - loss: 0.8243 - val_accuracy: 0.6972 - val_loss: 0.7123 - learning_rate: 1.0000e-04\n",
      "Epoch 11/50\n",
      "\u001b[1m142/142\u001b[0m \u001b[32m━━━━━━━━━━━━━━━━━━━━\u001b[0m\u001b[37m\u001b[0m \u001b[1m0s\u001b[0m 361ms/step - accuracy: 0.6471 - loss: 0.8306\n",
      "Epoch 11: val_loss improved from 0.71233 to 0.68040, saving model to best_oral_cancer_model.h5\n"
     ]
    },
    {
     "name": "stderr",
     "output_type": "stream",
     "text": [
      "WARNING:absl:You are saving your model as an HDF5 file via `model.save()` or `keras.saving.save_model(model)`. This file format is considered legacy. We recommend using instead the native Keras format, e.g. `model.save('my_model.keras')` or `keras.saving.save_model(model, 'my_model.keras')`. \n"
     ]
    },
    {
     "name": "stdout",
     "output_type": "stream",
     "text": [
      "\u001b[1m142/142\u001b[0m \u001b[32m━━━━━━━━━━━━━━━━━━━━\u001b[0m\u001b[37m\u001b[0m \u001b[1m70s\u001b[0m 492ms/step - accuracy: 0.6472 - loss: 0.8304 - val_accuracy: 0.7171 - val_loss: 0.6804 - learning_rate: 1.0000e-04\n",
      "Epoch 12/50\n",
      "\u001b[1m142/142\u001b[0m \u001b[32m━━━━━━━━━━━━━━━━━━━━\u001b[0m\u001b[37m\u001b[0m \u001b[1m0s\u001b[0m 354ms/step - accuracy: 0.6434 - loss: 0.7920\n",
      "Epoch 12: val_loss improved from 0.68040 to 0.67050, saving model to best_oral_cancer_model.h5\n"
     ]
    },
    {
     "name": "stderr",
     "output_type": "stream",
     "text": [
      "WARNING:absl:You are saving your model as an HDF5 file via `model.save()` or `keras.saving.save_model(model)`. This file format is considered legacy. We recommend using instead the native Keras format, e.g. `model.save('my_model.keras')` or `keras.saving.save_model(model, 'my_model.keras')`. \n"
     ]
    },
    {
     "name": "stdout",
     "output_type": "stream",
     "text": [
      "\u001b[1m142/142\u001b[0m \u001b[32m━━━━━━━━━━━━━━━━━━━━\u001b[0m\u001b[37m\u001b[0m \u001b[1m67s\u001b[0m 472ms/step - accuracy: 0.6434 - loss: 0.7921 - val_accuracy: 0.7185 - val_loss: 0.6705 - learning_rate: 1.0000e-04\n",
      "Epoch 13/50\n",
      "\u001b[1m142/142\u001b[0m \u001b[32m━━━━━━━━━━━━━━━━━━━━\u001b[0m\u001b[37m\u001b[0m \u001b[1m0s\u001b[0m 370ms/step - accuracy: 0.6613 - loss: 0.8027\n",
      "Epoch 13: val_loss improved from 0.67050 to 0.66550, saving model to best_oral_cancer_model.h5\n"
     ]
    },
    {
     "name": "stderr",
     "output_type": "stream",
     "text": [
      "WARNING:absl:You are saving your model as an HDF5 file via `model.save()` or `keras.saving.save_model(model)`. This file format is considered legacy. We recommend using instead the native Keras format, e.g. `model.save('my_model.keras')` or `keras.saving.save_model(model, 'my_model.keras')`. \n"
     ]
    },
    {
     "name": "stdout",
     "output_type": "stream",
     "text": [
      "\u001b[1m142/142\u001b[0m \u001b[32m━━━━━━━━━━━━━━━━━━━━\u001b[0m\u001b[37m\u001b[0m \u001b[1m70s\u001b[0m 492ms/step - accuracy: 0.6612 - loss: 0.8029 - val_accuracy: 0.7264 - val_loss: 0.6655 - learning_rate: 1.0000e-04\n",
      "Epoch 14/50\n",
      "\u001b[1m142/142\u001b[0m \u001b[32m━━━━━━━━━━━━━━━━━━━━\u001b[0m\u001b[37m\u001b[0m \u001b[1m0s\u001b[0m 370ms/step - accuracy: 0.6537 - loss: 0.8135\n",
      "Epoch 14: val_loss improved from 0.66550 to 0.66498, saving model to best_oral_cancer_model.h5\n"
     ]
    },
    {
     "name": "stderr",
     "output_type": "stream",
     "text": [
      "WARNING:absl:You are saving your model as an HDF5 file via `model.save()` or `keras.saving.save_model(model)`. This file format is considered legacy. We recommend using instead the native Keras format, e.g. `model.save('my_model.keras')` or `keras.saving.save_model(model, 'my_model.keras')`. \n"
     ]
    },
    {
     "name": "stdout",
     "output_type": "stream",
     "text": [
      "\u001b[1m142/142\u001b[0m \u001b[32m━━━━━━━━━━━━━━━━━━━━\u001b[0m\u001b[37m\u001b[0m \u001b[1m70s\u001b[0m 495ms/step - accuracy: 0.6537 - loss: 0.8134 - val_accuracy: 0.7185 - val_loss: 0.6650 - learning_rate: 1.0000e-04\n",
      "Epoch 15/50\n",
      "\u001b[1m142/142\u001b[0m \u001b[32m━━━━━━━━━━━━━━━━━━━━\u001b[0m\u001b[37m\u001b[0m \u001b[1m0s\u001b[0m 341ms/step - accuracy: 0.6799 - loss: 0.7268\n",
      "Epoch 15: val_loss did not improve from 0.66498\n",
      "\u001b[1m142/142\u001b[0m \u001b[32m━━━━━━━━━━━━━━━━━━━━\u001b[0m\u001b[37m\u001b[0m \u001b[1m68s\u001b[0m 476ms/step - accuracy: 0.6798 - loss: 0.7270 - val_accuracy: 0.7158 - val_loss: 0.6698 - learning_rate: 1.0000e-04\n",
      "Epoch 16/50\n",
      "\u001b[1m142/142\u001b[0m \u001b[32m━━━━━━━━━━━━━━━━━━━━\u001b[0m\u001b[37m\u001b[0m \u001b[1m0s\u001b[0m 348ms/step - accuracy: 0.6665 - loss: 0.7792\n",
      "Epoch 16: val_loss improved from 0.66498 to 0.65704, saving model to best_oral_cancer_model.h5\n"
     ]
    },
    {
     "name": "stderr",
     "output_type": "stream",
     "text": [
      "WARNING:absl:You are saving your model as an HDF5 file via `model.save()` or `keras.saving.save_model(model)`. This file format is considered legacy. We recommend using instead the native Keras format, e.g. `model.save('my_model.keras')` or `keras.saving.save_model(model, 'my_model.keras')`. \n"
     ]
    },
    {
     "name": "stdout",
     "output_type": "stream",
     "text": [
      "\u001b[1m142/142\u001b[0m \u001b[32m━━━━━━━━━━━━━━━━━━━━\u001b[0m\u001b[37m\u001b[0m \u001b[1m68s\u001b[0m 475ms/step - accuracy: 0.6665 - loss: 0.7791 - val_accuracy: 0.7211 - val_loss: 0.6570 - learning_rate: 1.0000e-04\n",
      "Epoch 17/50\n",
      "\u001b[1m142/142\u001b[0m \u001b[32m━━━━━━━━━━━━━━━━━━━━\u001b[0m\u001b[37m\u001b[0m \u001b[1m0s\u001b[0m 347ms/step - accuracy: 0.6568 - loss: 0.7876\n",
      "Epoch 17: val_loss improved from 0.65704 to 0.64054, saving model to best_oral_cancer_model.h5\n"
     ]
    },
    {
     "name": "stderr",
     "output_type": "stream",
     "text": [
      "WARNING:absl:You are saving your model as an HDF5 file via `model.save()` or `keras.saving.save_model(model)`. This file format is considered legacy. We recommend using instead the native Keras format, e.g. `model.save('my_model.keras')` or `keras.saving.save_model(model, 'my_model.keras')`. \n"
     ]
    },
    {
     "name": "stdout",
     "output_type": "stream",
     "text": [
      "\u001b[1m142/142\u001b[0m \u001b[32m━━━━━━━━━━━━━━━━━━━━\u001b[0m\u001b[37m\u001b[0m \u001b[1m66s\u001b[0m 465ms/step - accuracy: 0.6569 - loss: 0.7874 - val_accuracy: 0.7304 - val_loss: 0.6405 - learning_rate: 1.0000e-04\n",
      "Epoch 18/50\n",
      "\u001b[1m142/142\u001b[0m \u001b[32m━━━━━━━━━━━━━━━━━━━━\u001b[0m\u001b[37m\u001b[0m \u001b[1m0s\u001b[0m 350ms/step - accuracy: 0.7100 - loss: 0.6725\n",
      "Epoch 18: val_loss improved from 0.64054 to 0.63731, saving model to best_oral_cancer_model.h5\n"
     ]
    },
    {
     "name": "stderr",
     "output_type": "stream",
     "text": [
      "WARNING:absl:You are saving your model as an HDF5 file via `model.save()` or `keras.saving.save_model(model)`. This file format is considered legacy. We recommend using instead the native Keras format, e.g. `model.save('my_model.keras')` or `keras.saving.save_model(model, 'my_model.keras')`. \n"
     ]
    },
    {
     "name": "stdout",
     "output_type": "stream",
     "text": [
      "\u001b[1m142/142\u001b[0m \u001b[32m━━━━━━━━━━━━━━━━━━━━\u001b[0m\u001b[37m\u001b[0m \u001b[1m67s\u001b[0m 472ms/step - accuracy: 0.7100 - loss: 0.6727 - val_accuracy: 0.7304 - val_loss: 0.6373 - learning_rate: 1.0000e-04\n",
      "Epoch 19/50\n",
      "\u001b[1m142/142\u001b[0m \u001b[32m━━━━━━━━━━━━━━━━━━━━\u001b[0m\u001b[37m\u001b[0m \u001b[1m0s\u001b[0m 352ms/step - accuracy: 0.6907 - loss: 0.7368\n",
      "Epoch 19: val_loss improved from 0.63731 to 0.62500, saving model to best_oral_cancer_model.h5\n"
     ]
    },
    {
     "name": "stderr",
     "output_type": "stream",
     "text": [
      "WARNING:absl:You are saving your model as an HDF5 file via `model.save()` or `keras.saving.save_model(model)`. This file format is considered legacy. We recommend using instead the native Keras format, e.g. `model.save('my_model.keras')` or `keras.saving.save_model(model, 'my_model.keras')`. \n"
     ]
    },
    {
     "name": "stdout",
     "output_type": "stream",
     "text": [
      "\u001b[1m142/142\u001b[0m \u001b[32m━━━━━━━━━━━━━━━━━━━━\u001b[0m\u001b[37m\u001b[0m \u001b[1m67s\u001b[0m 472ms/step - accuracy: 0.6906 - loss: 0.7369 - val_accuracy: 0.7344 - val_loss: 0.6250 - learning_rate: 1.0000e-04\n",
      "Epoch 20/50\n",
      "\u001b[1m142/142\u001b[0m \u001b[32m━━━━━━━━━━━━━━━━━━━━\u001b[0m\u001b[37m\u001b[0m \u001b[1m0s\u001b[0m 353ms/step - accuracy: 0.6993 - loss: 0.7377\n",
      "Epoch 20: val_loss improved from 0.62500 to 0.62028, saving model to best_oral_cancer_model.h5\n"
     ]
    },
    {
     "name": "stderr",
     "output_type": "stream",
     "text": [
      "WARNING:absl:You are saving your model as an HDF5 file via `model.save()` or `keras.saving.save_model(model)`. This file format is considered legacy. We recommend using instead the native Keras format, e.g. `model.save('my_model.keras')` or `keras.saving.save_model(model, 'my_model.keras')`. \n"
     ]
    },
    {
     "name": "stdout",
     "output_type": "stream",
     "text": [
      "\u001b[1m142/142\u001b[0m \u001b[32m━━━━━━━━━━━━━━━━━━━━\u001b[0m\u001b[37m\u001b[0m \u001b[1m68s\u001b[0m 480ms/step - accuracy: 0.6993 - loss: 0.7376 - val_accuracy: 0.7371 - val_loss: 0.6203 - learning_rate: 1.0000e-04\n",
      "Epoch 21/50\n",
      "\u001b[1m142/142\u001b[0m \u001b[32m━━━━━━━━━━━━━━━━━━━━\u001b[0m\u001b[37m\u001b[0m \u001b[1m0s\u001b[0m 359ms/step - accuracy: 0.7069 - loss: 0.7057\n",
      "Epoch 21: val_loss did not improve from 0.62028\n",
      "\u001b[1m142/142\u001b[0m \u001b[32m━━━━━━━━━━━━━━━━━━━━\u001b[0m\u001b[37m\u001b[0m \u001b[1m68s\u001b[0m 481ms/step - accuracy: 0.7068 - loss: 0.7058 - val_accuracy: 0.7357 - val_loss: 0.6280 - learning_rate: 1.0000e-04\n",
      "Epoch 22/50\n",
      "\u001b[1m142/142\u001b[0m \u001b[32m━━━━━━━━━━━━━━━━━━━━\u001b[0m\u001b[37m\u001b[0m \u001b[1m0s\u001b[0m 365ms/step - accuracy: 0.7077 - loss: 0.6740\n",
      "Epoch 22: val_loss did not improve from 0.62028\n",
      "\u001b[1m142/142\u001b[0m \u001b[32m━━━━━━━━━━━━━━━━━━━━\u001b[0m\u001b[37m\u001b[0m \u001b[1m69s\u001b[0m 487ms/step - accuracy: 0.7077 - loss: 0.6742 - val_accuracy: 0.7344 - val_loss: 0.6250 - learning_rate: 1.0000e-04\n",
      "Epoch 23/50\n",
      "\u001b[1m142/142\u001b[0m \u001b[32m━━━━━━━━━━━━━━━━━━━━\u001b[0m\u001b[37m\u001b[0m \u001b[1m0s\u001b[0m 346ms/step - accuracy: 0.6902 - loss: 0.7233\n",
      "Epoch 23: ReduceLROnPlateau reducing learning rate to 1.9999999494757503e-05.\n",
      "\n",
      "Epoch 23: val_loss did not improve from 0.62028\n",
      "\u001b[1m142/142\u001b[0m \u001b[32m━━━━━━━━━━━━━━━━━━━━\u001b[0m\u001b[37m\u001b[0m \u001b[1m67s\u001b[0m 471ms/step - accuracy: 0.6902 - loss: 0.7232 - val_accuracy: 0.7344 - val_loss: 0.6244 - learning_rate: 1.0000e-04\n",
      "Epoch 24/50\n",
      "\u001b[1m142/142\u001b[0m \u001b[32m━━━━━━━━━━━━━━━━━━━━\u001b[0m\u001b[37m\u001b[0m \u001b[1m0s\u001b[0m 340ms/step - accuracy: 0.6783 - loss: 0.7010\n",
      "Epoch 24: val_loss improved from 0.62028 to 0.61969, saving model to best_oral_cancer_model.h5\n"
     ]
    },
    {
     "name": "stderr",
     "output_type": "stream",
     "text": [
      "WARNING:absl:You are saving your model as an HDF5 file via `model.save()` or `keras.saving.save_model(model)`. This file format is considered legacy. We recommend using instead the native Keras format, e.g. `model.save('my_model.keras')` or `keras.saving.save_model(model, 'my_model.keras')`. \n"
     ]
    },
    {
     "name": "stdout",
     "output_type": "stream",
     "text": [
      "\u001b[1m142/142\u001b[0m \u001b[32m━━━━━━━━━━━━━━━━━━━━\u001b[0m\u001b[37m\u001b[0m \u001b[1m65s\u001b[0m 456ms/step - accuracy: 0.6783 - loss: 0.7010 - val_accuracy: 0.7384 - val_loss: 0.6197 - learning_rate: 2.0000e-05\n",
      "Epoch 25/50\n",
      "\u001b[1m142/142\u001b[0m \u001b[32m━━━━━━━━━━━━━━━━━━━━\u001b[0m\u001b[37m\u001b[0m \u001b[1m0s\u001b[0m 313ms/step - accuracy: 0.6758 - loss: 0.7213\n",
      "Epoch 25: val_loss improved from 0.61969 to 0.61715, saving model to best_oral_cancer_model.h5\n"
     ]
    },
    {
     "name": "stderr",
     "output_type": "stream",
     "text": [
      "WARNING:absl:You are saving your model as an HDF5 file via `model.save()` or `keras.saving.save_model(model)`. This file format is considered legacy. We recommend using instead the native Keras format, e.g. `model.save('my_model.keras')` or `keras.saving.save_model(model, 'my_model.keras')`. \n"
     ]
    },
    {
     "name": "stdout",
     "output_type": "stream",
     "text": [
      "\u001b[1m142/142\u001b[0m \u001b[32m━━━━━━━━━━━━━━━━━━━━\u001b[0m\u001b[37m\u001b[0m \u001b[1m63s\u001b[0m 440ms/step - accuracy: 0.6758 - loss: 0.7212 - val_accuracy: 0.7357 - val_loss: 0.6172 - learning_rate: 2.0000e-05\n",
      "Epoch 26/50\n",
      "\u001b[1m142/142\u001b[0m \u001b[32m━━━━━━━━━━━━━━━━━━━━\u001b[0m\u001b[37m\u001b[0m \u001b[1m0s\u001b[0m 354ms/step - accuracy: 0.6886 - loss: 0.7022\n",
      "Epoch 26: val_loss improved from 0.61715 to 0.61626, saving model to best_oral_cancer_model.h5\n"
     ]
    },
    {
     "name": "stderr",
     "output_type": "stream",
     "text": [
      "WARNING:absl:You are saving your model as an HDF5 file via `model.save()` or `keras.saving.save_model(model)`. This file format is considered legacy. We recommend using instead the native Keras format, e.g. `model.save('my_model.keras')` or `keras.saving.save_model(model, 'my_model.keras')`. \n"
     ]
    },
    {
     "name": "stdout",
     "output_type": "stream",
     "text": [
      "\u001b[1m142/142\u001b[0m \u001b[32m━━━━━━━━━━━━━━━━━━━━\u001b[0m\u001b[37m\u001b[0m \u001b[1m68s\u001b[0m 481ms/step - accuracy: 0.6886 - loss: 0.7023 - val_accuracy: 0.7371 - val_loss: 0.6163 - learning_rate: 2.0000e-05\n",
      "Epoch 27/50\n",
      "\u001b[1m142/142\u001b[0m \u001b[32m━━━━━━━━━━━━━━━━━━━━\u001b[0m\u001b[37m\u001b[0m \u001b[1m0s\u001b[0m 358ms/step - accuracy: 0.7104 - loss: 0.6751\n",
      "Epoch 27: val_loss improved from 0.61626 to 0.61375, saving model to best_oral_cancer_model.h5\n"
     ]
    },
    {
     "name": "stderr",
     "output_type": "stream",
     "text": [
      "WARNING:absl:You are saving your model as an HDF5 file via `model.save()` or `keras.saving.save_model(model)`. This file format is considered legacy. We recommend using instead the native Keras format, e.g. `model.save('my_model.keras')` or `keras.saving.save_model(model, 'my_model.keras')`. \n"
     ]
    },
    {
     "name": "stdout",
     "output_type": "stream",
     "text": [
      "\u001b[1m142/142\u001b[0m \u001b[32m━━━━━━━━━━━━━━━━━━━━\u001b[0m\u001b[37m\u001b[0m \u001b[1m68s\u001b[0m 481ms/step - accuracy: 0.7103 - loss: 0.6752 - val_accuracy: 0.7397 - val_loss: 0.6137 - learning_rate: 2.0000e-05\n",
      "Epoch 28/50\n",
      "\u001b[1m142/142\u001b[0m \u001b[32m━━━━━━━━━━━━━━━━━━━━\u001b[0m\u001b[37m\u001b[0m \u001b[1m0s\u001b[0m 355ms/step - accuracy: 0.7145 - loss: 0.6933\n",
      "Epoch 28: val_loss did not improve from 0.61375\n",
      "\u001b[1m142/142\u001b[0m \u001b[32m━━━━━━━━━━━━━━━━━━━━\u001b[0m\u001b[37m\u001b[0m \u001b[1m67s\u001b[0m 473ms/step - accuracy: 0.7146 - loss: 0.6933 - val_accuracy: 0.7410 - val_loss: 0.6152 - learning_rate: 2.0000e-05\n",
      "Epoch 29/50\n",
      "\u001b[1m142/142\u001b[0m \u001b[32m━━━━━━━━━━━━━━━━━━━━\u001b[0m\u001b[37m\u001b[0m \u001b[1m0s\u001b[0m 354ms/step - accuracy: 0.6945 - loss: 0.6958\n",
      "Epoch 29: val_loss did not improve from 0.61375\n",
      "\u001b[1m142/142\u001b[0m \u001b[32m━━━━━━━━━━━━━━━━━━━━\u001b[0m\u001b[37m\u001b[0m \u001b[1m66s\u001b[0m 467ms/step - accuracy: 0.6946 - loss: 0.6957 - val_accuracy: 0.7384 - val_loss: 0.6160 - learning_rate: 2.0000e-05\n",
      "Epoch 30/50\n",
      "\u001b[1m142/142\u001b[0m \u001b[32m━━━━━━━━━━━━━━━━━━━━\u001b[0m\u001b[37m\u001b[0m \u001b[1m0s\u001b[0m 338ms/step - accuracy: 0.7110 - loss: 0.6882\n",
      "Epoch 30: ReduceLROnPlateau reducing learning rate to 3.999999898951501e-06.\n",
      "\n",
      "Epoch 30: val_loss did not improve from 0.61375\n",
      "\u001b[1m142/142\u001b[0m \u001b[32m━━━━━━━━━━━━━━━━━━━━\u001b[0m\u001b[37m\u001b[0m \u001b[1m63s\u001b[0m 445ms/step - accuracy: 0.7109 - loss: 0.6882 - val_accuracy: 0.7384 - val_loss: 0.6169 - learning_rate: 2.0000e-05\n",
      "Epoch 31/50\n",
      "\u001b[1m142/142\u001b[0m \u001b[32m━━━━━━━━━━━━━━━━━━━━\u001b[0m\u001b[37m\u001b[0m \u001b[1m0s\u001b[0m 362ms/step - accuracy: 0.7061 - loss: 0.6759\n",
      "Epoch 31: val_loss did not improve from 0.61375\n",
      "\u001b[1m142/142\u001b[0m \u001b[32m━━━━━━━━━━━━━━━━━━━━\u001b[0m\u001b[37m\u001b[0m \u001b[1m69s\u001b[0m 484ms/step - accuracy: 0.7060 - loss: 0.6758 - val_accuracy: 0.7357 - val_loss: 0.6152 - learning_rate: 4.0000e-06\n",
      "Epoch 32/50\n",
      "\u001b[1m142/142\u001b[0m \u001b[32m━━━━━━━━━━━━━━━━━━━━\u001b[0m\u001b[37m\u001b[0m \u001b[1m0s\u001b[0m 359ms/step - accuracy: 0.7016 - loss: 0.6774\n",
      "Epoch 32: val_loss did not improve from 0.61375\n",
      "\u001b[1m142/142\u001b[0m \u001b[32m━━━━━━━━━━━━━━━━━━━━\u001b[0m\u001b[37m\u001b[0m \u001b[1m69s\u001b[0m 486ms/step - accuracy: 0.7016 - loss: 0.6774 - val_accuracy: 0.7371 - val_loss: 0.6143 - learning_rate: 4.0000e-06\n",
      "Epoch 32: early stopping\n",
      "Restoring model weights from the end of the best epoch: 27.\n"
     ]
    },
    {
     "name": "stderr",
     "output_type": "stream",
     "text": [
      "INFO:__main__:Evaluation Results - Accuracy: 0.7331, F1: 0.7334\n"
     ]
    },
    {
     "data": {
      "image/png": "[encoded data removed]",
      "text/plain": [
       "<Figure size 1500x500 with 2 Axes>"
      ]
     },
     "metadata": {},
     "output_type": "display_data"
    },
    {
     "name": "stdout",
     "output_type": "stream",
     "text": [
      "Classification Report:\n",
      "              precision    recall  f1-score   support\n",
      "\n",
      "           0       0.64      0.67      0.66       142\n",
      "           1       0.76      0.77      0.76       225\n",
      "           2       0.76      0.74      0.75       386\n",
      "\n",
      "    accuracy                           0.73       753\n",
      "   macro avg       0.72      0.72      0.72       753\n",
      "weighted avg       0.73      0.73      0.73       753\n",
      "\n"
     ]
    },
    {
     "data": {
      "image/png": "[encoded data removed]",
      "text/plain": [
       "<Figure size 1000x800 with 2 Axes>"
      ]
     },
     "metadata": {},
     "output_type": "display_data"
    },
    {
     "name": "stderr",
     "output_type": "stream",
     "text": [
      "WARNING:absl:You are saving your model as an HDF5 file via `model.save()` or `keras.saving.save_model(model)`. This file format is considered legacy. We recommend using instead the native Keras format, e.g. `model.save('my_model.keras')` or `keras.saving.save_model(model, 'my_model.keras')`. \n"
     ]
    },
    {
     "name": "stdout",
     "output_type": "stream",
     "text": [
      "Test Accuracy: 0.7331\n",
      "Final Test Accuracy: 0.7331\n",
      "Final Test F1-Score: 0.7334\n"
     ]
    },
    {
     "name": "stderr",
     "output_type": "stream",
     "text": [
      "INFO:__main__:Model saved successfully\n",
      "INFO:__main__:Cleared TensorFlow session and freed memory\n"
     ]
    }
   ],
   "source": [
    "if __name__ == \"__main__\":\n",
    "    main()"
   ]
  },
  {
   "cell_type": "code",
   "execution_count": null,
   "id": "bcf9148d-bf30-43b0-a56f-27c71ab70878",
   "metadata": {},
   "outputs": [],
   "source": []
  }
 ],
 "metadata": {
  "kernelspec": {
   "display_name": "Python 3 (ipykernel)",
   "language": "python",
   "name": "python3"
  },
  "language_info": {
   "codemirror_mode": {
    "name": "ipython",
    "version": 3
   },
   "file_extension": ".py",
   "mimetype": "text/x-python",
   "name": "python",
   "nbconvert_exporter": "python",
   "pygments_lexer": "ipython3",
   "version": "3.10.0"
  }
 },
 "nbformat": 4,
 "nbformat_minor": 5
}
